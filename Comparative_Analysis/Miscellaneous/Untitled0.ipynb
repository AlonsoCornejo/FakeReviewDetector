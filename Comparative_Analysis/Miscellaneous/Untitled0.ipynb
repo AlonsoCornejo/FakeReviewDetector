{
  "nbformat": 4,
  "nbformat_minor": 0,
  "metadata": {
    "colab": {
      "name": "Untitled0.ipynb",
      "provenance": [],
      "collapsed_sections": []
    },
    "kernelspec": {
      "name": "python3",
      "display_name": "Python 3"
    },
    "language_info": {
      "name": "python"
    }
  },
  "cells": [
    {
      "cell_type": "code",
      "execution_count": null,
      "metadata": {
        "id": "7Ci25gZIatDr"
      },
      "outputs": [],
      "source": [
        "LIWC = {'Self': ['I', 'we', 'me']}\n",
        "\n",
        "# download the LIWC dataset.\n",
        "# current HW\n",
        "def LIWC_feature_extraction(text):\n",
        "    \"\"\"\n",
        "        Extract the LIWC features of input text.\n",
        "        text: of str type. The text is a piece of review from YelpChi.\n",
        "        return: the number of occurrences of the keywords in each LIWC category\n",
        "    \"\"\"\n",
        "    feature_dict = {'Self': }\n",
        "\n",
        "    # find the number of times that all words in 'Self' occurring in text\n",
        "    # put the counts in the feature_dict values associated with the key \"self\"\n",
        "    # do the same for all categories.\n",
        "\n",
        "    return feature_dict\n",
        "\n",
        "\"http://www.cs.uic.edu/~liub/FBS/comparative-lexicon.pdf\"\n",
        "# ComparativeExpressions \n",
        "# for a second sub-team\n",
        "def comparative_feature_extraction(text):\n",
        "    \"\"\"\n",
        "        The keys are from \n",
        "    \"\"\"\n",
        "    feature_dict = {'better': 0, 'nicer': 0, ...}\n",
        "\n",
        "    # find the number of times that each such key appearing in text.\n",
        "    # may have \n",
        "    return feature_dict\n",
        "\n",
        "# next HW: turn the feature_dict to a feature vector (of type ndarray from numpy)\n",
        "#           [1, 0, 5, 9, ]\n",
        "#           train a classifier, such as SVM, naive Bayes, or logistic regression.\n",
        "def convert_to_ndarray():\n",
        "\n",
        "def create_feature_matrix(corpus):\n",
        "    \"\"\"\n",
        "        corpus: mulitiple lines of reviews and one line for a review\n",
        "    \"\"\"\n",
        "    result_matrix = []\n",
        "\n",
        "    for line in that_file:\n",
        "        feature_dict = LIWC_feature_extraction(line)\n",
        "        feature_vec = convert_to_ndarray(feature_dict)\n",
        "        result_matrix.append(feature_vec)\n",
        "    \n",
        "    return convert_to_matrix(result_matrix)\n"
      ]
    }
  ]
}