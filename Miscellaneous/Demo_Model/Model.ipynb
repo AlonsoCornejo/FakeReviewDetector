{
 "cells": [
  {
   "cell_type": "code",
   "execution_count": 73,
   "metadata": {},
   "outputs": [],
   "source": [
    "#!pip install bertopic[visualization] --quiet"
   ]
  },
  {
   "cell_type": "code",
   "execution_count": 80,
   "metadata": {},
   "outputs": [],
   "source": [
    "import pandas as pd\n",
    "import numpy as np\n",
    "import csv\n",
    "import matplotlib.pyplot as plt\n",
    "from copy import deepcopy\n",
    "\n",
    "#from nrclex import NRCLex"
   ]
  },
  {
   "cell_type": "code",
   "execution_count": 81,
   "metadata": {},
   "outputs": [
    {
     "data": {
      "text/html": [
       "<div>\n",
       "<style scoped>\n",
       "    .dataframe tbody tr th:only-of-type {\n",
       "        vertical-align: middle;\n",
       "    }\n",
       "\n",
       "    .dataframe tbody tr th {\n",
       "        vertical-align: top;\n",
       "    }\n",
       "\n",
       "    .dataframe thead th {\n",
       "        text-align: right;\n",
       "    }\n",
       "</style>\n",
       "<table border=\"1\" class=\"dataframe\">\n",
       "  <thead>\n",
       "    <tr style=\"text-align: right;\">\n",
       "      <th></th>\n",
       "      <th>Is_Comparative?</th>\n",
       "      <th>Type</th>\n",
       "      <th>Word</th>\n",
       "    </tr>\n",
       "  </thead>\n",
       "  <tbody>\n",
       "    <tr>\n",
       "      <th>0</th>\n",
       "      <td>1</td>\n",
       "      <td>Equative</td>\n",
       "      <td>same as</td>\n",
       "    </tr>\n",
       "    <tr>\n",
       "      <th>1</th>\n",
       "      <td>1</td>\n",
       "      <td>Non-Equal Gradable</td>\n",
       "      <td>compare to</td>\n",
       "    </tr>\n",
       "    <tr>\n",
       "      <th>2</th>\n",
       "      <td>1</td>\n",
       "      <td>Superlative</td>\n",
       "      <td>highest</td>\n",
       "    </tr>\n",
       "    <tr>\n",
       "      <th>3</th>\n",
       "      <td>0</td>\n",
       "      <td>Non-Gradable</td>\n",
       "      <td>None</td>\n",
       "    </tr>\n",
       "  </tbody>\n",
       "</table>\n",
       "</div>"
      ],
      "text/plain": [
       "  Is_Comparative?                Type        Word\n",
       "0               1            Equative     same as\n",
       "1               1  Non-Equal Gradable  compare to\n",
       "2               1         Superlative     highest\n",
       "3               0        Non-Gradable        None"
      ]
     },
     "execution_count": 81,
     "metadata": {},
     "output_type": "execute_result"
    }
   ],
   "source": [
    "#From vector to dataframe Algorithm\n",
    "vector=np.array([[1,'Equative','same as'],[1,'Non-Equal Gradable','compare to'],[1,'Superlative','highest']\n",
    "                 ,[0,'Non-Gradable','None']])\n",
    "\n",
    "df1=pd.DataFrame(vector,columns=['Is_Comparative?','Type','Word'])\n",
    "df1"
   ]
  },
  {
   "cell_type": "code",
   "execution_count": 82,
   "metadata": {},
   "outputs": [
    {
     "data": {
      "text/html": [
       "<div>\n",
       "<style scoped>\n",
       "    .dataframe tbody tr th:only-of-type {\n",
       "        vertical-align: middle;\n",
       "    }\n",
       "\n",
       "    .dataframe tbody tr th {\n",
       "        vertical-align: top;\n",
       "    }\n",
       "\n",
       "    .dataframe thead th {\n",
       "        text-align: right;\n",
       "    }\n",
       "</style>\n",
       "<table border=\"1\" class=\"dataframe\">\n",
       "  <thead>\n",
       "    <tr style=\"text-align: right;\">\n",
       "      <th></th>\n",
       "      <th>Is_Comparative?</th>\n",
       "      <th>Type</th>\n",
       "      <th>Word</th>\n",
       "    </tr>\n",
       "  </thead>\n",
       "  <tbody>\n",
       "    <tr>\n",
       "      <th>0</th>\n",
       "      <td>1</td>\n",
       "      <td>Equative</td>\n",
       "      <td>same as</td>\n",
       "    </tr>\n",
       "    <tr>\n",
       "      <th>1</th>\n",
       "      <td>1</td>\n",
       "      <td>Non-Equal Gradable</td>\n",
       "      <td>cannot compete with</td>\n",
       "    </tr>\n",
       "    <tr>\n",
       "      <th>2</th>\n",
       "      <td>0</td>\n",
       "      <td>Non-Gradable</td>\n",
       "      <td>None</td>\n",
       "    </tr>\n",
       "    <tr>\n",
       "      <th>3</th>\n",
       "      <td>0</td>\n",
       "      <td>Non-Gradable</td>\n",
       "      <td>None</td>\n",
       "    </tr>\n",
       "    <tr>\n",
       "      <th>4</th>\n",
       "      <td>1</td>\n",
       "      <td>Non-Equal Gradable</td>\n",
       "      <td>compare to</td>\n",
       "    </tr>\n",
       "    <tr>\n",
       "      <th>...</th>\n",
       "      <td>...</td>\n",
       "      <td>...</td>\n",
       "      <td>...</td>\n",
       "    </tr>\n",
       "    <tr>\n",
       "      <th>540</th>\n",
       "      <td>1</td>\n",
       "      <td>Superlative</td>\n",
       "      <td>smallest</td>\n",
       "    </tr>\n",
       "    <tr>\n",
       "      <th>541</th>\n",
       "      <td>0</td>\n",
       "      <td>Non-Gradable</td>\n",
       "      <td>None</td>\n",
       "    </tr>\n",
       "    <tr>\n",
       "      <th>542</th>\n",
       "      <td>1</td>\n",
       "      <td>Superlative</td>\n",
       "      <td>biggest</td>\n",
       "    </tr>\n",
       "    <tr>\n",
       "      <th>543</th>\n",
       "      <td>0</td>\n",
       "      <td>Non-Gradable</td>\n",
       "      <td>None</td>\n",
       "    </tr>\n",
       "    <tr>\n",
       "      <th>544</th>\n",
       "      <td>0</td>\n",
       "      <td>Non-Gradable</td>\n",
       "      <td>None</td>\n",
       "    </tr>\n",
       "  </tbody>\n",
       "</table>\n",
       "<p>545 rows × 3 columns</p>\n",
       "</div>"
      ],
      "text/plain": [
       "     Is_Comparative?                Type                 Word\n",
       "0                  1            Equative              same as\n",
       "1                  1  Non-Equal Gradable  cannot compete with\n",
       "2                  0        Non-Gradable                 None\n",
       "3                  0        Non-Gradable                 None\n",
       "4                  1  Non-Equal Gradable           compare to\n",
       "..               ...                 ...                  ...\n",
       "540                1         Superlative             smallest\n",
       "541                0        Non-Gradable                 None\n",
       "542                1         Superlative              biggest\n",
       "543                0        Non-Gradable                 None\n",
       "544                0        Non-Gradable                 None\n",
       "\n",
       "[545 rows x 3 columns]"
      ]
     },
     "execution_count": 82,
     "metadata": {},
     "output_type": "execute_result"
    }
   ],
   "source": [
    "#Read random data CSV and transform it into data frame\n",
    "df=pd.read_csv('Data Generator.csv',sep=';')\n",
    "df.columns=['Is_Comparative?','Type','Word']\n",
    "df\n"
   ]
  },
  {
   "cell_type": "code",
   "execution_count": 93,
   "metadata": {},
   "outputs": [
    {
     "data": {
      "image/png": "[encoded data removed]",
      "text/plain": [
       "<Figure size 432x288 with 1 Axes>"
      ]
     },
     "metadata": {},
     "output_type": "display_data"
    }
   ],
   "source": [
    "#Create Pye Chart\n",
    "plt.style.use(\"fivethirtyeight\")\n",
    "\n",
    "#Cleaning because special characters\n",
    "df.loc[df[\"Type\"]==\"Non-Equal Gradable\",\"Type\"]=\"NonEqualGradable\"\n",
    "df.loc[df[\"Type\"]==\"Non-Gradable\",\"Type\"]=\"NonGradable\"\n",
    "\n",
    "#Counting Values and creating labeling list\n",
    "types=[df['Type'].value_counts().Equative,df['Type'].value_counts().NonEqualGradable,\n",
    "       df['Type'].value_counts().Superlative,df['Type'].value_counts().NonGradable]\n",
    "labels=[\"Equative\",\"Non-Equal Gradable\",\"Superlative\",\"Non-Gradable\"]\n",
    "\n",
    "#Plotting\n",
    "plt.pie(types,labels=labels,wedgeprops={'edgecolor':'black'})\n",
    "\n",
    "plt.title(\"Distribution of Word Type\")\n",
    "plt.tight_layout()\n",
    "plt.show()"
   ]
  },
  {
   "cell_type": "code",
   "execution_count": null,
   "metadata": {},
   "outputs": [],
   "source": [
    "#Assign Quantitative Value to Type\n",
    "df.loc[df[\"Type\"]==\"Equative\",\"Type\"]=1\n",
    "df.loc[df[\"Type\"]==\"Non-Equal Gradable\",\"Type\"]=2\n",
    "df.loc[df[\"Type\"]==\"Superlative\",\"Type\"]=3\n",
    "df.loc[df[\"Type\"]==\"Non-Gradable\",\"Type\"]=4\n",
    "\n",
    "df\n",
    "\n"
   ]
  },
  {
   "cell_type": "code",
   "execution_count": null,
   "metadata": {},
   "outputs": [],
   "source": [
    "#Make a SubData Frame\n",
    "data=[df['Is_Comparative?'],df['Word']]\n",
    "df2=pd.concat(data,axis=1)\n",
    "df2"
   ]
  },
  {
   "cell_type": "code",
   "execution_count": null,
   "metadata": {},
   "outputs": [],
   "source": [
    "#Attempt for KNN"
   ]
  }
 ],
 "metadata": {
  "kernelspec": {
   "display_name": "Python 3",
   "language": "python",
   "name": "python3"
  },
  "language_info": {
   "codemirror_mode": {
    "name": "ipython",
    "version": 3
   },
   "file_extension": ".py",
   "mimetype": "text/x-python",
   "name": "python",
   "nbconvert_exporter": "python",
   "pygments_lexer": "ipython3",
   "version": "3.7.6"
  }
 },
 "nbformat": 4,
 "nbformat_minor": 4
}
